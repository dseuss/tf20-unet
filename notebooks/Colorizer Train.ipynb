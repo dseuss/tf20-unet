{
  "nbformat": 4,
  "nbformat_minor": 0,
  "metadata": {
    "colab": {
      "name": "Colorizer",
      "version": "0.3.2",
      "provenance": [],
      "private_outputs": true,
      "include_colab_link": true
    },
    "kernelspec": {
      "name": "python3",
      "display_name": "Python 3"
    },
    "accelerator": "GPU"
  },
  "cells": [
    {
      "cell_type": "markdown",
      "metadata": {
        "id": "view-in-github",
        "colab_type": "text"
      },
      "source": [
        "<a href=\"https://colab.research.google.com/github/dseuss/tf20-unet/blob/master/notebooks/Colorizer%20Train.ipynb\" target=\"_parent\"><img src=\"https://colab.research.google.com/assets/colab-badge.svg\" alt=\"Open In Colab\"/></a>"
      ]
    },
    {
      "cell_type": "code",
      "metadata": {
        "id": "uKUBBHTwSaDB",
        "colab_type": "code",
        "colab": {}
      },
      "source": [
        "!nvidia-smi"
      ],
      "execution_count": 0,
      "outputs": []
    },
    {
      "cell_type": "code",
      "metadata": {
        "id": "ThHNR11Y8yNB",
        "colab_type": "code",
        "colab": {}
      },
      "source": [
        "!pip install tensorflow-gpu==2.0.0beta1 tensorflow-datasets pillow"
      ],
      "execution_count": 0,
      "outputs": []
    },
    {
      "cell_type": "code",
      "metadata": {
        "id": "jbsWMA55cKr_",
        "colab_type": "code",
        "colab": {}
      },
      "source": [
        "%load_ext autoreload\n",
        "%autoreload 2\n",
        "%load_ext tensorboard"
      ],
      "execution_count": 0,
      "outputs": []
    },
    {
      "cell_type": "code",
      "metadata": {
        "id": "t-YlOHYvDleH",
        "colab_type": "code",
        "colab": {}
      },
      "source": [
        "!rm -rf logs\n",
        "!rm -rf tf20-unet\n",
        "!git clone https://github.com/dseuss/tf20-unet"
      ],
      "execution_count": 0,
      "outputs": []
    },
    {
      "cell_type": "code",
      "metadata": {
        "id": "Ea-8nejVS-Np",
        "colab_type": "code",
        "colab": {}
      },
      "source": [
        "import os\n",
        "os.environ['TF_ENABLE_AUTO_MIXED_PRECISION'] = '1'\n",
        "import sys\n",
        "sys.path.append('tf20-unet')"
      ],
      "execution_count": 0,
      "outputs": []
    },
    {
      "cell_type": "code",
      "metadata": {
        "id": "eCHQ15adcVCh",
        "colab_type": "code",
        "colab": {}
      },
      "source": [
        "import functools as ft\n",
        "import tensorflow as tf\n",
        "import tensorflow.keras as k\n",
        "import tensorflow_datasets as tfds\n",
        "import datetime\n",
        "import numpy as np\n",
        "from PIL import Image\n",
        "from IPython.display import display\n",
        "from tqdm import tqdm_notebook as tqdm\n",
        "\n",
        "from models import Unet"
      ],
      "execution_count": 0,
      "outputs": []
    },
    {
      "cell_type": "code",
      "metadata": {
        "id": "vJcaYXgF98dT",
        "colab_type": "code",
        "colab": {}
      },
      "source": [
        "def to_grayscale(image):\n",
        "    x = tf.image.rgb_to_grayscale(image)\n",
        "    return {'x': x / 255, 'y': image / 255}\n",
        "\n",
        "def show_img(tensor):\n",
        "    img = tensor.numpy().astype(np.uint8).squeeze()\n",
        "    display(Image.fromarray(img))\n",
        "\n",
        "def build_dataset(split):\n",
        "    data = tfds.load('voc2007', split=split)\n",
        "    data = data.map(lambda s: s['image'])\n",
        "    data = data.map(ft.partial(tf.image.resize_with_pad, target_height=320, target_width=320))\n",
        "    data = data.map(to_grayscale)\n",
        "    return data\n",
        "\n",
        "def to_tuple(data):\n",
        "    return data['x'], data['y']\n",
        "\n",
        "ds_test = build_dataset(tfds.Split.TEST)\n",
        "for features in ds_test.take(1):\n",
        "    pass\n",
        "show_img(255 * features['x'])\n",
        "show_img(255 * features['y'])\n",
        "ds_test = ds_test.batch(8).prefetch(10).map(to_tuple)\n",
        "\n",
        "ds_train = build_dataset(tfds.Split.TRAIN)\n",
        "ds_train = ds_train.shuffle(128).batch(8).prefetch(10).map(to_tuple)"
      ],
      "execution_count": 0,
      "outputs": []
    },
    {
      "cell_type": "code",
      "metadata": {
        "id": "KJ1Cvh7kgRkj",
        "colab_type": "code",
        "colab": {}
      },
      "source": [
        "class VisualizeImages(tf.keras.callbacks.Callback):\n",
        "    def __init__(self, model, example_images, log_dir):\n",
        "        super().__init__()\n",
        "        self.summary_writer = tf.summary.create_file_writer(log_dir)\n",
        "        self.model = model\n",
        "        \n",
        "        self.imgs_gray, imgs_rgb = examples\n",
        "        with self.summary_writer.as_default():\n",
        "            tf.summary.image('groundtruth', imgs_rgb, step=0)\n",
        "            \n",
        "    def on_epoch_end(self, epoch, logs):\n",
        "        imgs_rgb_pred = self.model(self.imgs_gray)\n",
        "        with self.summary_writer.as_default():\n",
        "            tf.summary.image('prediction', imgs_rgb_pred, step=epoch)"
      ],
      "execution_count": 0,
      "outputs": []
    },
    {
      "cell_type": "code",
      "metadata": {
        "id": "vGR4W9MWD4ln",
        "colab_type": "code",
        "colab": {}
      },
      "source": [
        "for examples in ds_test.take(1):\n",
        "    pass\n",
        "\n",
        "model = Unet(output_channels=3, num_filters=[64, 128, 256])\n",
        "model.compile(\n",
        "    loss=k.losses.MeanSquaredError(),\n",
        "    optimizer=k.optimizers.Adam())\n",
        "\n",
        "current_time = datetime.datetime.now().strftime(\"%Y%m%d-%H%M%S\")\n",
        "log_dir = f'logs/{current_time}/'\n",
        "\n",
        "model.fit(\n",
        "    ds_train, \n",
        "    validation_data=ds_test,\n",
        "    epochs=10, \n",
        "    callbacks=[\n",
        "        k.callbacks.TensorBoard(log_dir),\n",
        "        VisualizeImages(model, examples, log_dir),\n",
        "        k.callbacks.ModelCheckpoint(log_dir + '/ckpts', monitor='val_loss', \n",
        "                                    verbose=1, save_best_only=True, mode='max')\n",
        "    ]\n",
        ")"
      ],
      "execution_count": 0,
      "outputs": []
    },
    {
      "cell_type": "code",
      "metadata": {
        "id": "HLWWqRGpkcyF",
        "colab_type": "code",
        "colab": {}
      },
      "source": [
        "%tensorboard --logdir 'logs/'"
      ],
      "execution_count": 0,
      "outputs": []
    },
    {
      "cell_type": "code",
      "metadata": {
        "id": "k6ZDbnlNmeRY",
        "colab_type": "code",
        "colab": {}
      },
      "source": [
        ""
      ],
      "execution_count": 0,
      "outputs": []
    }
  ]
}